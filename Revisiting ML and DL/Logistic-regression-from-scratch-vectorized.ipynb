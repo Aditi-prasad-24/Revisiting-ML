{
 "cells": [
  {
   "cell_type": "code",
   "execution_count": 1,
   "id": "64bf5e08",
   "metadata": {
    "_cell_guid": "b1076dfc-b9ad-4769-8c92-a6c4dae69d19",
    "_uuid": "8f2839f25d086af736a60e9eeb907d3b93b6e0e5",
    "execution": {
     "iopub.execute_input": "2024-11-17T10:41:14.560519Z",
     "iopub.status.busy": "2024-11-17T10:41:14.560080Z",
     "iopub.status.idle": "2024-11-17T10:41:15.435098Z",
     "shell.execute_reply": "2024-11-17T10:41:15.433841Z"
    },
    "papermill": {
     "duration": 0.882123,
     "end_time": "2024-11-17T10:41:15.437679",
     "exception": false,
     "start_time": "2024-11-17T10:41:14.555556",
     "status": "completed"
    },
    "tags": []
   },
   "outputs": [],
   "source": [
    "# This Python 3 environment comes with many helpful analytics libraries installed\n",
    "# It is defined by the kaggle/python Docker image: https://github.com/kaggle/docker-python\n",
    "# For example, here's several helpful packages to load\n",
    "\n",
    "import numpy as np # linear algebra\n",
    "import pandas as pd # data processing, CSV file I/O (e.g. pd.read_csv)\n",
    "\n",
    "# Input data files are available in the read-only \"../input/\" directory\n",
    "# For example, running this (by clicking run or pressing Shift+Enter) will list all files under the input directory\n",
    "\n",
    "import os\n",
    "for dirname, _, filenames in os.walk('/kaggle/input'):\n",
    "    for filename in filenames:\n",
    "        print(os.path.join(dirname, filename))\n",
    "\n",
    "# You can write up to 20GB to the current directory (/kaggle/working/) that gets preserved as output when you create a version using \"Save & Run All\" \n",
    "# You can also write temporary files to /kaggle/temp/, but they won't be saved outside of the current session"
   ]
  },
  {
   "cell_type": "code",
   "execution_count": 2,
   "id": "e60d48ba",
   "metadata": {
    "execution": {
     "iopub.execute_input": "2024-11-17T10:41:15.444940Z",
     "iopub.status.busy": "2024-11-17T10:41:15.444434Z",
     "iopub.status.idle": "2024-11-17T10:41:16.894450Z",
     "shell.execute_reply": "2024-11-17T10:41:16.893491Z"
    },
    "papermill": {
     "duration": 1.456238,
     "end_time": "2024-11-17T10:41:16.896916",
     "exception": false,
     "start_time": "2024-11-17T10:41:15.440678",
     "status": "completed"
    },
    "tags": []
   },
   "outputs": [],
   "source": [
    "from sklearn.datasets import make_classification\n",
    "import random\n",
    "import numpy as np"
   ]
  },
  {
   "cell_type": "code",
   "execution_count": 3,
   "id": "1b6884e6",
   "metadata": {
    "execution": {
     "iopub.execute_input": "2024-11-17T10:41:16.903748Z",
     "iopub.status.busy": "2024-11-17T10:41:16.903230Z",
     "iopub.status.idle": "2024-11-17T10:41:16.916106Z",
     "shell.execute_reply": "2024-11-17T10:41:16.915005Z"
    },
    "papermill": {
     "duration": 0.01915,
     "end_time": "2024-11-17T10:41:16.918631",
     "exception": false,
     "start_time": "2024-11-17T10:41:16.899481",
     "status": "completed"
    },
    "tags": []
   },
   "outputs": [],
   "source": [
    "data=make_classification(n_samples=1000,n_features=7,n_classes=2)\n",
    "X,y=data"
   ]
  },
  {
   "cell_type": "code",
   "execution_count": 4,
   "id": "a25d4550",
   "metadata": {
    "execution": {
     "iopub.execute_input": "2024-11-17T10:41:16.925191Z",
     "iopub.status.busy": "2024-11-17T10:41:16.924777Z",
     "iopub.status.idle": "2024-11-17T10:41:16.932075Z",
     "shell.execute_reply": "2024-11-17T10:41:16.931023Z"
    },
    "papermill": {
     "duration": 0.013178,
     "end_time": "2024-11-17T10:41:16.934278",
     "exception": false,
     "start_time": "2024-11-17T10:41:16.921100",
     "status": "completed"
    },
    "tags": []
   },
   "outputs": [],
   "source": [
    "thetas=[random.random() for _ in range(X.shape[1]+1)]\n",
    "# need to convert values in column format before concatenating as column\n",
    "ones_column=np.array([[one] for one in np.ones(X.shape[0])])\n",
    "X=np.concatenate([ones_column,X],axis=1)"
   ]
  },
  {
   "cell_type": "code",
   "execution_count": 5,
   "id": "269b4dfa",
   "metadata": {
    "execution": {
     "iopub.execute_input": "2024-11-17T10:41:16.940814Z",
     "iopub.status.busy": "2024-11-17T10:41:16.940402Z",
     "iopub.status.idle": "2024-11-17T10:41:17.020837Z",
     "shell.execute_reply": "2024-11-17T10:41:17.019786Z"
    },
    "papermill": {
     "duration": 0.086569,
     "end_time": "2024-11-17T10:41:17.023330",
     "exception": false,
     "start_time": "2024-11-17T10:41:16.936761",
     "status": "completed"
    },
    "tags": []
   },
   "outputs": [
    {
     "name": "stdout",
     "output_type": "stream",
     "text": [
      "epoch: 0 loss:43.68173163258562\n",
      "epoch: 1 loss:41.18199445511705\n",
      "epoch: 2 loss:40.93899495791008\n",
      "epoch: 3 loss:40.90756894766656\n",
      "epoch: 4 loss:40.90161191357646\n",
      "epoch: 5 loss:40.900087812517235\n",
      "epoch: 6 loss:40.899636522281014\n",
      "epoch: 7 loss:40.89949518665915\n",
      "epoch: 8 loss:40.89944999933005\n",
      "epoch: 9 loss:40.89943542716139\n",
      "epoch: 10 loss:40.89943070573277\n",
      "epoch: 11 loss:40.89942917080692\n",
      "epoch: 12 loss:40.89942867040107\n",
      "epoch: 13 loss:40.89942850686116\n",
      "epoch: 14 loss:40.89942845329902\n",
      "epoch: 15 loss:40.899428435723856\n",
      "epoch: 16 loss:40.899428429947825\n",
      "epoch: 17 loss:40.89942842804702\n",
      "epoch: 18 loss:40.89942842742081\n",
      "epoch: 19 loss:40.899428427214296\n"
     ]
    }
   ],
   "source": [
    "batch_size=10\n",
    "lr=0.01\n",
    "num_epochs=20\n",
    "def sigmoid(z):\n",
    "    return 1/(1+np.exp(-z))\n",
    "    \n",
    "def train(X,y,thetas,lr,batch_size,num_epochs):\n",
    "    num_iters=X.shape[0]//batch_size\n",
    "    \n",
    "    for epoch in range(num_epochs):\n",
    "        loss=0\n",
    "        for j in range(num_iters):\n",
    "            thetas_grad=np.zeros_like(thetas)\n",
    "            X_batch=X[j*batch_size:(j+1)*batch_size]\n",
    "            y_batch=y[j*batch_size:(j+1)*batch_size]\n",
    "            y_pred=sigmoid(X_batch.dot(thetas))\n",
    "            loss+=-np.mean((y_batch*np.log(y_pred)+(1-y_batch)*np.log(1-y_pred)))\n",
    "            thetas_grad+=np.dot(X_batch.T,(y_batch-y_pred))\n",
    "            thetas+=lr*thetas_grad\n",
    "        print(f'epoch: {epoch} loss:{loss}')\n",
    "            \n",
    "\n",
    "train(X,y,thetas,lr,batch_size,num_epochs)"
   ]
  },
  {
   "cell_type": "code",
   "execution_count": null,
   "id": "e3bd5e5a",
   "metadata": {
    "papermill": {
     "duration": 0.002141,
     "end_time": "2024-11-17T10:41:17.028328",
     "exception": false,
     "start_time": "2024-11-17T10:41:17.026187",
     "status": "completed"
    },
    "tags": []
   },
   "outputs": [],
   "source": []
  }
 ],
 "metadata": {
  "kaggle": {
   "accelerator": "none",
   "dataSources": [],
   "dockerImageVersionId": 30786,
   "isGpuEnabled": false,
   "isInternetEnabled": false,
   "language": "python",
   "sourceType": "notebook"
  },
  "kernelspec": {
   "display_name": "Python 3",
   "language": "python",
   "name": "python3"
  },
  "language_info": {
   "codemirror_mode": {
    "name": "ipython",
    "version": 3
   },
   "file_extension": ".py",
   "mimetype": "text/x-python",
   "name": "python",
   "nbconvert_exporter": "python",
   "pygments_lexer": "ipython3",
   "version": "3.10.14"
  },
  "papermill": {
   "default_parameters": {},
   "duration": 5.862156,
   "end_time": "2024-11-17T10:41:17.651153",
   "environment_variables": {},
   "exception": null,
   "input_path": "__notebook__.ipynb",
   "output_path": "__notebook__.ipynb",
   "parameters": {},
   "start_time": "2024-11-17T10:41:11.788997",
   "version": "2.6.0"
  }
 },
 "nbformat": 4,
 "nbformat_minor": 5
}
