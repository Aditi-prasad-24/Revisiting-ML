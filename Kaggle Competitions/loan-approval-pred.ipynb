{
 "cells": [
  {
   "cell_type": "code",
   "execution_count": 1,
   "id": "418954d1",
   "metadata": {
    "execution": {
     "iopub.execute_input": "2024-10-19T15:01:19.079851Z",
     "iopub.status.busy": "2024-10-19T15:01:19.079431Z",
     "iopub.status.idle": "2024-10-19T15:01:21.783300Z",
     "shell.execute_reply": "2024-10-19T15:01:21.781998Z"
    },
    "papermill": {
     "duration": 2.714799,
     "end_time": "2024-10-19T15:01:21.786123",
     "exception": false,
     "start_time": "2024-10-19T15:01:19.071324",
     "status": "completed"
    },
    "tags": []
   },
   "outputs": [],
   "source": [
    "import numpy as np\n",
    "import pandas as pd\n",
    "from sklearn.preprocessing import OrdinalEncoder, StandardScaler\n",
    "from sklearn.model_selection import train_test_split\n",
    "from sklearn.linear_model import LogisticRegression\n",
    "from sklearn.metrics import classification_report\n",
    "from xgboost import XGBClassifier"
   ]
  },
  {
   "cell_type": "code",
   "execution_count": 2,
   "id": "1899e0d7",
   "metadata": {
    "execution": {
     "iopub.execute_input": "2024-10-19T15:01:21.800143Z",
     "iopub.status.busy": "2024-10-19T15:01:21.799551Z",
     "iopub.status.idle": "2024-10-19T15:01:21.805341Z",
     "shell.execute_reply": "2024-10-19T15:01:21.804300Z"
    },
    "papermill": {
     "duration": 0.015079,
     "end_time": "2024-10-19T15:01:21.807610",
     "exception": false,
     "start_time": "2024-10-19T15:01:21.792531",
     "status": "completed"
    },
    "tags": []
   },
   "outputs": [],
   "source": [
    "pd.set_option(\"display.max_columns\", 50)"
   ]
  },
  {
   "cell_type": "code",
   "execution_count": 3,
   "id": "fc34df4d",
   "metadata": {
    "execution": {
     "iopub.execute_input": "2024-10-19T15:01:21.821457Z",
     "iopub.status.busy": "2024-10-19T15:01:21.820688Z",
     "iopub.status.idle": "2024-10-19T15:01:22.058128Z",
     "shell.execute_reply": "2024-10-19T15:01:22.056887Z"
    },
    "papermill": {
     "duration": 0.247129,
     "end_time": "2024-10-19T15:01:22.060621",
     "exception": false,
     "start_time": "2024-10-19T15:01:21.813492",
     "status": "completed"
    },
    "tags": []
   },
   "outputs": [
    {
     "name": "stdout",
     "output_type": "stream",
     "text": [
      "58645 39098\n"
     ]
    }
   ],
   "source": [
    "train_data=pd.read_csv('/kaggle/input/playground-series-s4e10/train.csv')\n",
    "len_train_data=len(train_data)\n",
    "test_data=pd.read_csv('/kaggle/input/playground-series-s4e10/test.csv')\n",
    "data=pd.concat([train_data,test_data],axis=0,ignore_index=True)\n",
    "data.columns\n",
    "print(len_train_data,len(test_data))"
   ]
  },
  {
   "cell_type": "code",
   "execution_count": 4,
   "id": "fca1d156",
   "metadata": {
    "execution": {
     "iopub.execute_input": "2024-10-19T15:01:22.074100Z",
     "iopub.status.busy": "2024-10-19T15:01:22.073685Z",
     "iopub.status.idle": "2024-10-19T15:01:22.082420Z",
     "shell.execute_reply": "2024-10-19T15:01:22.081404Z"
    },
    "papermill": {
     "duration": 0.018223,
     "end_time": "2024-10-19T15:01:22.084816",
     "exception": false,
     "start_time": "2024-10-19T15:01:22.066593",
     "status": "completed"
    },
    "tags": []
   },
   "outputs": [],
   "source": [
    "data['loan_grade'] = data['loan_grade'].astype(str)"
   ]
  },
  {
   "cell_type": "code",
   "execution_count": 5,
   "id": "797c66bb",
   "metadata": {
    "execution": {
     "iopub.execute_input": "2024-10-19T15:01:22.098589Z",
     "iopub.status.busy": "2024-10-19T15:01:22.098165Z",
     "iopub.status.idle": "2024-10-19T15:01:22.110284Z",
     "shell.execute_reply": "2024-10-19T15:01:22.109063Z"
    },
    "papermill": {
     "duration": 0.023055,
     "end_time": "2024-10-19T15:01:22.113930",
     "exception": false,
     "start_time": "2024-10-19T15:01:22.090875",
     "status": "completed"
    },
    "tags": []
   },
   "outputs": [],
   "source": [
    "grade_mapping = {\n",
    "    'A': 6,\n",
    "    'B': 5,\n",
    "    'C': 4,\n",
    "    'D': 3,\n",
    "    'E': 2,\n",
    "    'F': 1,\n",
    "    'G': 0\n",
    "}\n",
    "\n",
    "# Use the map method to create a new column with encoded values\n",
    "data['loan_grade_encoded'] = data['loan_grade'].map(grade_mapping)"
   ]
  },
  {
   "cell_type": "code",
   "execution_count": 6,
   "id": "1e9e3b98",
   "metadata": {
    "execution": {
     "iopub.execute_input": "2024-10-19T15:01:22.128937Z",
     "iopub.status.busy": "2024-10-19T15:01:22.128522Z",
     "iopub.status.idle": "2024-10-19T15:01:22.221637Z",
     "shell.execute_reply": "2024-10-19T15:01:22.220437Z"
    },
    "papermill": {
     "duration": 0.103821,
     "end_time": "2024-10-19T15:01:22.224091",
     "exception": false,
     "start_time": "2024-10-19T15:01:22.120270",
     "status": "completed"
    },
    "tags": []
   },
   "outputs": [
    {
     "data": {
      "text/plain": [
       "Index(['id', 'person_age', 'person_income', 'person_emp_length', 'loan_grade',\n",
       "       'loan_amnt', 'loan_int_rate', 'loan_percent_income',\n",
       "       'cb_person_cred_hist_length', 'loan_status', 'loan_grade_encoded',\n",
       "       'person_home_ownership_MORTGAGE', 'person_home_ownership_OTHER',\n",
       "       'person_home_ownership_OWN', 'person_home_ownership_RENT',\n",
       "       'loan_intent_DEBTCONSOLIDATION', 'loan_intent_EDUCATION',\n",
       "       'loan_intent_HOMEIMPROVEMENT', 'loan_intent_MEDICAL',\n",
       "       'loan_intent_PERSONAL', 'loan_intent_VENTURE',\n",
       "       'cb_person_default_on_file_N', 'cb_person_default_on_file_Y'],\n",
       "      dtype='object')"
      ]
     },
     "execution_count": 6,
     "metadata": {},
     "output_type": "execute_result"
    }
   ],
   "source": [
    "data=pd.get_dummies(data,columns=['person_home_ownership','loan_intent','cb_person_default_on_file'],dtype=float)\n",
    "data.columns"
   ]
  },
  {
   "cell_type": "code",
   "execution_count": 7,
   "id": "ca3f291b",
   "metadata": {
    "execution": {
     "iopub.execute_input": "2024-10-19T15:01:22.237899Z",
     "iopub.status.busy": "2024-10-19T15:01:22.237466Z",
     "iopub.status.idle": "2024-10-19T15:01:22.248172Z",
     "shell.execute_reply": "2024-10-19T15:01:22.247037Z"
    },
    "papermill": {
     "duration": 0.02067,
     "end_time": "2024-10-19T15:01:22.250836",
     "exception": false,
     "start_time": "2024-10-19T15:01:22.230166",
     "status": "completed"
    },
    "tags": []
   },
   "outputs": [],
   "source": [
    "data=data.drop('loan_grade',axis=1)"
   ]
  },
  {
   "cell_type": "code",
   "execution_count": 8,
   "id": "d82f150d",
   "metadata": {
    "execution": {
     "iopub.execute_input": "2024-10-19T15:01:22.264757Z",
     "iopub.status.busy": "2024-10-19T15:01:22.264329Z",
     "iopub.status.idle": "2024-10-19T15:01:22.281536Z",
     "shell.execute_reply": "2024-10-19T15:01:22.280071Z"
    },
    "papermill": {
     "duration": 0.026775,
     "end_time": "2024-10-19T15:01:22.283850",
     "exception": false,
     "start_time": "2024-10-19T15:01:22.257075",
     "status": "completed"
    },
    "tags": []
   },
   "outputs": [
    {
     "name": "stdout",
     "output_type": "stream",
     "text": [
      "58645 39098\n"
     ]
    }
   ],
   "source": [
    "dataset_train=data.loc[:len_train_data-1,:]\n",
    "dataset_test=data.loc[len_train_data:,data.columns!='loan_status']\n",
    "print(len(dataset_train),len(dataset_test))"
   ]
  },
  {
   "cell_type": "code",
   "execution_count": 9,
   "id": "559ae5b1",
   "metadata": {
    "execution": {
     "iopub.execute_input": "2024-10-19T15:01:22.298136Z",
     "iopub.status.busy": "2024-10-19T15:01:22.297266Z",
     "iopub.status.idle": "2024-10-19T15:01:22.337665Z",
     "shell.execute_reply": "2024-10-19T15:01:22.336456Z"
    },
    "papermill": {
     "duration": 0.050516,
     "end_time": "2024-10-19T15:01:22.340413",
     "exception": false,
     "start_time": "2024-10-19T15:01:22.289897",
     "status": "completed"
    },
    "tags": []
   },
   "outputs": [
    {
     "data": {
      "text/html": [
       "<div>\n",
       "<style scoped>\n",
       "    .dataframe tbody tr th:only-of-type {\n",
       "        vertical-align: middle;\n",
       "    }\n",
       "\n",
       "    .dataframe tbody tr th {\n",
       "        vertical-align: top;\n",
       "    }\n",
       "\n",
       "    .dataframe thead th {\n",
       "        text-align: right;\n",
       "    }\n",
       "</style>\n",
       "<table border=\"1\" class=\"dataframe\">\n",
       "  <thead>\n",
       "    <tr style=\"text-align: right;\">\n",
       "      <th></th>\n",
       "      <th>id</th>\n",
       "      <th>person_age</th>\n",
       "      <th>person_income</th>\n",
       "      <th>person_emp_length</th>\n",
       "      <th>loan_amnt</th>\n",
       "      <th>loan_int_rate</th>\n",
       "      <th>loan_percent_income</th>\n",
       "      <th>cb_person_cred_hist_length</th>\n",
       "      <th>loan_status</th>\n",
       "      <th>loan_grade_encoded</th>\n",
       "      <th>person_home_ownership_MORTGAGE</th>\n",
       "      <th>person_home_ownership_OTHER</th>\n",
       "      <th>person_home_ownership_OWN</th>\n",
       "      <th>person_home_ownership_RENT</th>\n",
       "      <th>loan_intent_DEBTCONSOLIDATION</th>\n",
       "      <th>loan_intent_EDUCATION</th>\n",
       "      <th>loan_intent_HOMEIMPROVEMENT</th>\n",
       "      <th>loan_intent_MEDICAL</th>\n",
       "      <th>loan_intent_PERSONAL</th>\n",
       "      <th>loan_intent_VENTURE</th>\n",
       "      <th>cb_person_default_on_file_N</th>\n",
       "      <th>cb_person_default_on_file_Y</th>\n",
       "    </tr>\n",
       "  </thead>\n",
       "  <tbody>\n",
       "    <tr>\n",
       "      <th>0</th>\n",
       "      <td>0</td>\n",
       "      <td>37</td>\n",
       "      <td>35000</td>\n",
       "      <td>0.0</td>\n",
       "      <td>6000</td>\n",
       "      <td>11.49</td>\n",
       "      <td>0.17</td>\n",
       "      <td>14</td>\n",
       "      <td>0.0</td>\n",
       "      <td>5</td>\n",
       "      <td>0.0</td>\n",
       "      <td>0.0</td>\n",
       "      <td>0.0</td>\n",
       "      <td>1.0</td>\n",
       "      <td>0.0</td>\n",
       "      <td>1.0</td>\n",
       "      <td>0.0</td>\n",
       "      <td>0.0</td>\n",
       "      <td>0.0</td>\n",
       "      <td>0.0</td>\n",
       "      <td>1.0</td>\n",
       "      <td>0.0</td>\n",
       "    </tr>\n",
       "    <tr>\n",
       "      <th>1</th>\n",
       "      <td>1</td>\n",
       "      <td>22</td>\n",
       "      <td>56000</td>\n",
       "      <td>6.0</td>\n",
       "      <td>4000</td>\n",
       "      <td>13.35</td>\n",
       "      <td>0.07</td>\n",
       "      <td>2</td>\n",
       "      <td>0.0</td>\n",
       "      <td>4</td>\n",
       "      <td>0.0</td>\n",
       "      <td>0.0</td>\n",
       "      <td>1.0</td>\n",
       "      <td>0.0</td>\n",
       "      <td>0.0</td>\n",
       "      <td>0.0</td>\n",
       "      <td>0.0</td>\n",
       "      <td>1.0</td>\n",
       "      <td>0.0</td>\n",
       "      <td>0.0</td>\n",
       "      <td>1.0</td>\n",
       "      <td>0.0</td>\n",
       "    </tr>\n",
       "    <tr>\n",
       "      <th>2</th>\n",
       "      <td>2</td>\n",
       "      <td>29</td>\n",
       "      <td>28800</td>\n",
       "      <td>8.0</td>\n",
       "      <td>6000</td>\n",
       "      <td>8.90</td>\n",
       "      <td>0.21</td>\n",
       "      <td>10</td>\n",
       "      <td>0.0</td>\n",
       "      <td>6</td>\n",
       "      <td>0.0</td>\n",
       "      <td>0.0</td>\n",
       "      <td>1.0</td>\n",
       "      <td>0.0</td>\n",
       "      <td>0.0</td>\n",
       "      <td>0.0</td>\n",
       "      <td>0.0</td>\n",
       "      <td>0.0</td>\n",
       "      <td>1.0</td>\n",
       "      <td>0.0</td>\n",
       "      <td>1.0</td>\n",
       "      <td>0.0</td>\n",
       "    </tr>\n",
       "    <tr>\n",
       "      <th>3</th>\n",
       "      <td>3</td>\n",
       "      <td>30</td>\n",
       "      <td>70000</td>\n",
       "      <td>14.0</td>\n",
       "      <td>12000</td>\n",
       "      <td>11.11</td>\n",
       "      <td>0.17</td>\n",
       "      <td>5</td>\n",
       "      <td>0.0</td>\n",
       "      <td>5</td>\n",
       "      <td>0.0</td>\n",
       "      <td>0.0</td>\n",
       "      <td>0.0</td>\n",
       "      <td>1.0</td>\n",
       "      <td>0.0</td>\n",
       "      <td>0.0</td>\n",
       "      <td>0.0</td>\n",
       "      <td>0.0</td>\n",
       "      <td>0.0</td>\n",
       "      <td>1.0</td>\n",
       "      <td>1.0</td>\n",
       "      <td>0.0</td>\n",
       "    </tr>\n",
       "    <tr>\n",
       "      <th>4</th>\n",
       "      <td>4</td>\n",
       "      <td>22</td>\n",
       "      <td>60000</td>\n",
       "      <td>2.0</td>\n",
       "      <td>6000</td>\n",
       "      <td>6.92</td>\n",
       "      <td>0.10</td>\n",
       "      <td>3</td>\n",
       "      <td>0.0</td>\n",
       "      <td>6</td>\n",
       "      <td>0.0</td>\n",
       "      <td>0.0</td>\n",
       "      <td>0.0</td>\n",
       "      <td>1.0</td>\n",
       "      <td>0.0</td>\n",
       "      <td>0.0</td>\n",
       "      <td>0.0</td>\n",
       "      <td>1.0</td>\n",
       "      <td>0.0</td>\n",
       "      <td>0.0</td>\n",
       "      <td>1.0</td>\n",
       "      <td>0.0</td>\n",
       "    </tr>\n",
       "    <tr>\n",
       "      <th>...</th>\n",
       "      <td>...</td>\n",
       "      <td>...</td>\n",
       "      <td>...</td>\n",
       "      <td>...</td>\n",
       "      <td>...</td>\n",
       "      <td>...</td>\n",
       "      <td>...</td>\n",
       "      <td>...</td>\n",
       "      <td>...</td>\n",
       "      <td>...</td>\n",
       "      <td>...</td>\n",
       "      <td>...</td>\n",
       "      <td>...</td>\n",
       "      <td>...</td>\n",
       "      <td>...</td>\n",
       "      <td>...</td>\n",
       "      <td>...</td>\n",
       "      <td>...</td>\n",
       "      <td>...</td>\n",
       "      <td>...</td>\n",
       "      <td>...</td>\n",
       "      <td>...</td>\n",
       "    </tr>\n",
       "    <tr>\n",
       "      <th>58640</th>\n",
       "      <td>58640</td>\n",
       "      <td>34</td>\n",
       "      <td>120000</td>\n",
       "      <td>5.0</td>\n",
       "      <td>25000</td>\n",
       "      <td>15.95</td>\n",
       "      <td>0.21</td>\n",
       "      <td>10</td>\n",
       "      <td>0.0</td>\n",
       "      <td>3</td>\n",
       "      <td>1.0</td>\n",
       "      <td>0.0</td>\n",
       "      <td>0.0</td>\n",
       "      <td>0.0</td>\n",
       "      <td>0.0</td>\n",
       "      <td>1.0</td>\n",
       "      <td>0.0</td>\n",
       "      <td>0.0</td>\n",
       "      <td>0.0</td>\n",
       "      <td>0.0</td>\n",
       "      <td>0.0</td>\n",
       "      <td>1.0</td>\n",
       "    </tr>\n",
       "    <tr>\n",
       "      <th>58641</th>\n",
       "      <td>58641</td>\n",
       "      <td>28</td>\n",
       "      <td>28800</td>\n",
       "      <td>0.0</td>\n",
       "      <td>10000</td>\n",
       "      <td>12.73</td>\n",
       "      <td>0.35</td>\n",
       "      <td>8</td>\n",
       "      <td>1.0</td>\n",
       "      <td>4</td>\n",
       "      <td>0.0</td>\n",
       "      <td>0.0</td>\n",
       "      <td>0.0</td>\n",
       "      <td>1.0</td>\n",
       "      <td>0.0</td>\n",
       "      <td>0.0</td>\n",
       "      <td>0.0</td>\n",
       "      <td>1.0</td>\n",
       "      <td>0.0</td>\n",
       "      <td>0.0</td>\n",
       "      <td>1.0</td>\n",
       "      <td>0.0</td>\n",
       "    </tr>\n",
       "    <tr>\n",
       "      <th>58642</th>\n",
       "      <td>58642</td>\n",
       "      <td>23</td>\n",
       "      <td>44000</td>\n",
       "      <td>7.0</td>\n",
       "      <td>6800</td>\n",
       "      <td>16.00</td>\n",
       "      <td>0.15</td>\n",
       "      <td>2</td>\n",
       "      <td>1.0</td>\n",
       "      <td>3</td>\n",
       "      <td>0.0</td>\n",
       "      <td>0.0</td>\n",
       "      <td>0.0</td>\n",
       "      <td>1.0</td>\n",
       "      <td>0.0</td>\n",
       "      <td>1.0</td>\n",
       "      <td>0.0</td>\n",
       "      <td>0.0</td>\n",
       "      <td>0.0</td>\n",
       "      <td>0.0</td>\n",
       "      <td>1.0</td>\n",
       "      <td>0.0</td>\n",
       "    </tr>\n",
       "    <tr>\n",
       "      <th>58643</th>\n",
       "      <td>58643</td>\n",
       "      <td>22</td>\n",
       "      <td>30000</td>\n",
       "      <td>2.0</td>\n",
       "      <td>5000</td>\n",
       "      <td>8.90</td>\n",
       "      <td>0.17</td>\n",
       "      <td>3</td>\n",
       "      <td>0.0</td>\n",
       "      <td>6</td>\n",
       "      <td>0.0</td>\n",
       "      <td>0.0</td>\n",
       "      <td>0.0</td>\n",
       "      <td>1.0</td>\n",
       "      <td>0.0</td>\n",
       "      <td>1.0</td>\n",
       "      <td>0.0</td>\n",
       "      <td>0.0</td>\n",
       "      <td>0.0</td>\n",
       "      <td>0.0</td>\n",
       "      <td>1.0</td>\n",
       "      <td>0.0</td>\n",
       "    </tr>\n",
       "    <tr>\n",
       "      <th>58644</th>\n",
       "      <td>58644</td>\n",
       "      <td>31</td>\n",
       "      <td>75000</td>\n",
       "      <td>2.0</td>\n",
       "      <td>15000</td>\n",
       "      <td>11.11</td>\n",
       "      <td>0.20</td>\n",
       "      <td>5</td>\n",
       "      <td>0.0</td>\n",
       "      <td>5</td>\n",
       "      <td>1.0</td>\n",
       "      <td>0.0</td>\n",
       "      <td>0.0</td>\n",
       "      <td>0.0</td>\n",
       "      <td>0.0</td>\n",
       "      <td>0.0</td>\n",
       "      <td>0.0</td>\n",
       "      <td>0.0</td>\n",
       "      <td>0.0</td>\n",
       "      <td>1.0</td>\n",
       "      <td>1.0</td>\n",
       "      <td>0.0</td>\n",
       "    </tr>\n",
       "  </tbody>\n",
       "</table>\n",
       "<p>58645 rows × 22 columns</p>\n",
       "</div>"
      ],
      "text/plain": [
       "          id  person_age  person_income  person_emp_length  loan_amnt  \\\n",
       "0          0          37          35000                0.0       6000   \n",
       "1          1          22          56000                6.0       4000   \n",
       "2          2          29          28800                8.0       6000   \n",
       "3          3          30          70000               14.0      12000   \n",
       "4          4          22          60000                2.0       6000   \n",
       "...      ...         ...            ...                ...        ...   \n",
       "58640  58640          34         120000                5.0      25000   \n",
       "58641  58641          28          28800                0.0      10000   \n",
       "58642  58642          23          44000                7.0       6800   \n",
       "58643  58643          22          30000                2.0       5000   \n",
       "58644  58644          31          75000                2.0      15000   \n",
       "\n",
       "       loan_int_rate  loan_percent_income  cb_person_cred_hist_length  \\\n",
       "0              11.49                 0.17                          14   \n",
       "1              13.35                 0.07                           2   \n",
       "2               8.90                 0.21                          10   \n",
       "3              11.11                 0.17                           5   \n",
       "4               6.92                 0.10                           3   \n",
       "...              ...                  ...                         ...   \n",
       "58640          15.95                 0.21                          10   \n",
       "58641          12.73                 0.35                           8   \n",
       "58642          16.00                 0.15                           2   \n",
       "58643           8.90                 0.17                           3   \n",
       "58644          11.11                 0.20                           5   \n",
       "\n",
       "       loan_status  loan_grade_encoded  person_home_ownership_MORTGAGE  \\\n",
       "0              0.0                   5                             0.0   \n",
       "1              0.0                   4                             0.0   \n",
       "2              0.0                   6                             0.0   \n",
       "3              0.0                   5                             0.0   \n",
       "4              0.0                   6                             0.0   \n",
       "...            ...                 ...                             ...   \n",
       "58640          0.0                   3                             1.0   \n",
       "58641          1.0                   4                             0.0   \n",
       "58642          1.0                   3                             0.0   \n",
       "58643          0.0                   6                             0.0   \n",
       "58644          0.0                   5                             1.0   \n",
       "\n",
       "       person_home_ownership_OTHER  person_home_ownership_OWN  \\\n",
       "0                              0.0                        0.0   \n",
       "1                              0.0                        1.0   \n",
       "2                              0.0                        1.0   \n",
       "3                              0.0                        0.0   \n",
       "4                              0.0                        0.0   \n",
       "...                            ...                        ...   \n",
       "58640                          0.0                        0.0   \n",
       "58641                          0.0                        0.0   \n",
       "58642                          0.0                        0.0   \n",
       "58643                          0.0                        0.0   \n",
       "58644                          0.0                        0.0   \n",
       "\n",
       "       person_home_ownership_RENT  loan_intent_DEBTCONSOLIDATION  \\\n",
       "0                             1.0                            0.0   \n",
       "1                             0.0                            0.0   \n",
       "2                             0.0                            0.0   \n",
       "3                             1.0                            0.0   \n",
       "4                             1.0                            0.0   \n",
       "...                           ...                            ...   \n",
       "58640                         0.0                            0.0   \n",
       "58641                         1.0                            0.0   \n",
       "58642                         1.0                            0.0   \n",
       "58643                         1.0                            0.0   \n",
       "58644                         0.0                            0.0   \n",
       "\n",
       "       loan_intent_EDUCATION  loan_intent_HOMEIMPROVEMENT  \\\n",
       "0                        1.0                          0.0   \n",
       "1                        0.0                          0.0   \n",
       "2                        0.0                          0.0   \n",
       "3                        0.0                          0.0   \n",
       "4                        0.0                          0.0   \n",
       "...                      ...                          ...   \n",
       "58640                    1.0                          0.0   \n",
       "58641                    0.0                          0.0   \n",
       "58642                    1.0                          0.0   \n",
       "58643                    1.0                          0.0   \n",
       "58644                    0.0                          0.0   \n",
       "\n",
       "       loan_intent_MEDICAL  loan_intent_PERSONAL  loan_intent_VENTURE  \\\n",
       "0                      0.0                   0.0                  0.0   \n",
       "1                      1.0                   0.0                  0.0   \n",
       "2                      0.0                   1.0                  0.0   \n",
       "3                      0.0                   0.0                  1.0   \n",
       "4                      1.0                   0.0                  0.0   \n",
       "...                    ...                   ...                  ...   \n",
       "58640                  0.0                   0.0                  0.0   \n",
       "58641                  1.0                   0.0                  0.0   \n",
       "58642                  0.0                   0.0                  0.0   \n",
       "58643                  0.0                   0.0                  0.0   \n",
       "58644                  0.0                   0.0                  1.0   \n",
       "\n",
       "       cb_person_default_on_file_N  cb_person_default_on_file_Y  \n",
       "0                              1.0                          0.0  \n",
       "1                              1.0                          0.0  \n",
       "2                              1.0                          0.0  \n",
       "3                              1.0                          0.0  \n",
       "4                              1.0                          0.0  \n",
       "...                            ...                          ...  \n",
       "58640                          0.0                          1.0  \n",
       "58641                          1.0                          0.0  \n",
       "58642                          1.0                          0.0  \n",
       "58643                          1.0                          0.0  \n",
       "58644                          1.0                          0.0  \n",
       "\n",
       "[58645 rows x 22 columns]"
      ]
     },
     "execution_count": 9,
     "metadata": {},
     "output_type": "execute_result"
    }
   ],
   "source": [
    "dataset_train"
   ]
  },
  {
   "cell_type": "code",
   "execution_count": 10,
   "id": "ae7b6b1b",
   "metadata": {
    "execution": {
     "iopub.execute_input": "2024-10-19T15:01:22.355888Z",
     "iopub.status.busy": "2024-10-19T15:01:22.355491Z",
     "iopub.status.idle": "2024-10-19T15:01:22.368020Z",
     "shell.execute_reply": "2024-10-19T15:01:22.366987Z"
    },
    "papermill": {
     "duration": 0.02317,
     "end_time": "2024-10-19T15:01:22.370595",
     "exception": false,
     "start_time": "2024-10-19T15:01:22.347425",
     "status": "completed"
    },
    "tags": []
   },
   "outputs": [],
   "source": [
    "X=dataset_train.drop('loan_status',axis=1)\n",
    "y=dataset_train['loan_status']"
   ]
  },
  {
   "cell_type": "code",
   "execution_count": 11,
   "id": "99de55de",
   "metadata": {
    "execution": {
     "iopub.execute_input": "2024-10-19T15:01:22.385815Z",
     "iopub.status.busy": "2024-10-19T15:01:22.385426Z",
     "iopub.status.idle": "2024-10-19T15:01:22.433219Z",
     "shell.execute_reply": "2024-10-19T15:01:22.431998Z"
    },
    "papermill": {
     "duration": 0.058505,
     "end_time": "2024-10-19T15:01:22.435930",
     "exception": false,
     "start_time": "2024-10-19T15:01:22.377425",
     "status": "completed"
    },
    "tags": []
   },
   "outputs": [
    {
     "name": "stderr",
     "output_type": "stream",
     "text": [
      "/opt/conda/lib/python3.10/site-packages/sklearn/base.py:439: UserWarning: X does not have valid feature names, but StandardScaler was fitted with feature names\n",
      "  warnings.warn(\n"
     ]
    }
   ],
   "source": [
    "scaler=StandardScaler()\n",
    "scaler.fit(X)\n",
    "X=scaler.transform(X)\n",
    "dataset_test_scaled=scaler.transform(dataset_test.to_numpy())"
   ]
  },
  {
   "cell_type": "code",
   "execution_count": 12,
   "id": "73dd4d40",
   "metadata": {
    "execution": {
     "iopub.execute_input": "2024-10-19T15:01:22.451144Z",
     "iopub.status.busy": "2024-10-19T15:01:22.450721Z",
     "iopub.status.idle": "2024-10-19T15:01:22.474874Z",
     "shell.execute_reply": "2024-10-19T15:01:22.473489Z"
    },
    "papermill": {
     "duration": 0.034817,
     "end_time": "2024-10-19T15:01:22.477612",
     "exception": false,
     "start_time": "2024-10-19T15:01:22.442795",
     "status": "completed"
    },
    "tags": []
   },
   "outputs": [],
   "source": [
    "X_train,X_test,y_train,y_test=train_test_split(X,y,test_size=0.2,random_state=42)"
   ]
  },
  {
   "cell_type": "code",
   "execution_count": 13,
   "id": "8e96f5e0",
   "metadata": {
    "execution": {
     "iopub.execute_input": "2024-10-19T15:01:22.493405Z",
     "iopub.status.busy": "2024-10-19T15:01:22.492973Z",
     "iopub.status.idle": "2024-10-19T15:01:22.675343Z",
     "shell.execute_reply": "2024-10-19T15:01:22.674144Z"
    },
    "papermill": {
     "duration": 0.194311,
     "end_time": "2024-10-19T15:01:22.678607",
     "exception": false,
     "start_time": "2024-10-19T15:01:22.484296",
     "status": "completed"
    },
    "tags": []
   },
   "outputs": [],
   "source": [
    "log_reg_model=LogisticRegression()\n",
    "log_reg_model.fit(X_train,y_train)\n",
    "y_pred=log_reg_model.predict(X_test)"
   ]
  },
  {
   "cell_type": "code",
   "execution_count": 14,
   "id": "f3baec86",
   "metadata": {
    "execution": {
     "iopub.execute_input": "2024-10-19T15:01:22.704844Z",
     "iopub.status.busy": "2024-10-19T15:01:22.703237Z",
     "iopub.status.idle": "2024-10-19T15:01:22.767050Z",
     "shell.execute_reply": "2024-10-19T15:01:22.765872Z"
    },
    "papermill": {
     "duration": 0.081278,
     "end_time": "2024-10-19T15:01:22.770965",
     "exception": false,
     "start_time": "2024-10-19T15:01:22.689687",
     "status": "completed"
    },
    "tags": []
   },
   "outputs": [
    {
     "name": "stdout",
     "output_type": "stream",
     "text": [
      "              precision    recall  f1-score   support\n",
      "\n",
      "         0.0       0.92      0.98      0.95     10087\n",
      "         1.0       0.76      0.46      0.57      1642\n",
      "\n",
      "    accuracy                           0.90     11729\n",
      "   macro avg       0.84      0.72      0.76     11729\n",
      "weighted avg       0.89      0.90      0.89     11729\n",
      "\n"
     ]
    }
   ],
   "source": [
    "print(classification_report(y_test,y_pred))"
   ]
  },
  {
   "cell_type": "code",
   "execution_count": 15,
   "id": "53decafc",
   "metadata": {
    "execution": {
     "iopub.execute_input": "2024-10-19T15:01:22.796152Z",
     "iopub.status.busy": "2024-10-19T15:01:22.795764Z",
     "iopub.status.idle": "2024-10-19T15:01:22.804315Z",
     "shell.execute_reply": "2024-10-19T15:01:22.803109Z"
    },
    "papermill": {
     "duration": 0.024048,
     "end_time": "2024-10-19T15:01:22.807127",
     "exception": false,
     "start_time": "2024-10-19T15:01:22.783079",
     "status": "completed"
    },
    "tags": []
   },
   "outputs": [],
   "source": [
    "y_pred_test=log_reg_model.predict(dataset_test_scaled)"
   ]
  },
  {
   "cell_type": "code",
   "execution_count": 16,
   "id": "2bb9961e",
   "metadata": {
    "execution": {
     "iopub.execute_input": "2024-10-19T15:01:22.832506Z",
     "iopub.status.busy": "2024-10-19T15:01:22.831921Z",
     "iopub.status.idle": "2024-10-19T15:01:22.848905Z",
     "shell.execute_reply": "2024-10-19T15:01:22.847742Z"
    },
    "papermill": {
     "duration": 0.033212,
     "end_time": "2024-10-19T15:01:22.851984",
     "exception": false,
     "start_time": "2024-10-19T15:01:22.818772",
     "status": "completed"
    },
    "tags": []
   },
   "outputs": [],
   "source": [
    "y_pred_test=['True' if x==1 else 'False' for x in y_pred_test]"
   ]
  },
  {
   "cell_type": "code",
   "execution_count": 17,
   "id": "d33bd642",
   "metadata": {
    "execution": {
     "iopub.execute_input": "2024-10-19T15:01:22.877279Z",
     "iopub.status.busy": "2024-10-19T15:01:22.876731Z",
     "iopub.status.idle": "2024-10-19T15:01:22.887000Z",
     "shell.execute_reply": "2024-10-19T15:01:22.885847Z"
    },
    "papermill": {
     "duration": 0.026618,
     "end_time": "2024-10-19T15:01:22.890449",
     "exception": false,
     "start_time": "2024-10-19T15:01:22.863831",
     "status": "completed"
    },
    "tags": []
   },
   "outputs": [],
   "source": [
    "result_df=pd.DataFrame({'id':dataset_test['id'],'loan_status':y_pred_test})"
   ]
  },
  {
   "cell_type": "code",
   "execution_count": 18,
   "id": "bb6fc61a",
   "metadata": {
    "execution": {
     "iopub.execute_input": "2024-10-19T15:01:22.915963Z",
     "iopub.status.busy": "2024-10-19T15:01:22.915428Z",
     "iopub.status.idle": "2024-10-19T15:01:22.959716Z",
     "shell.execute_reply": "2024-10-19T15:01:22.958482Z"
    },
    "papermill": {
     "duration": 0.05983,
     "end_time": "2024-10-19T15:01:22.962287",
     "exception": false,
     "start_time": "2024-10-19T15:01:22.902457",
     "status": "completed"
    },
    "tags": []
   },
   "outputs": [],
   "source": [
    "result_df.to_csv('result_loan_pred.csv',index=False)"
   ]
  },
  {
   "cell_type": "code",
   "execution_count": 19,
   "id": "cc9e094c",
   "metadata": {
    "execution": {
     "iopub.execute_input": "2024-10-19T15:01:22.977976Z",
     "iopub.status.busy": "2024-10-19T15:01:22.977547Z",
     "iopub.status.idle": "2024-10-19T15:01:23.915483Z",
     "shell.execute_reply": "2024-10-19T15:01:23.914574Z"
    },
    "papermill": {
     "duration": 0.948537,
     "end_time": "2024-10-19T15:01:23.917997",
     "exception": false,
     "start_time": "2024-10-19T15:01:22.969460",
     "status": "completed"
    },
    "tags": []
   },
   "outputs": [],
   "source": [
    "xgb_classifier_model=XGBClassifier(n_estimators=200)\n",
    "xgb_classifier_model.fit(X_train,y_train)\n",
    "y_pred=xgb_classifier_model.predict(X_test)"
   ]
  },
  {
   "cell_type": "code",
   "execution_count": 20,
   "id": "8483e16a",
   "metadata": {
    "execution": {
     "iopub.execute_input": "2024-10-19T15:01:23.933888Z",
     "iopub.status.busy": "2024-10-19T15:01:23.933491Z",
     "iopub.status.idle": "2024-10-19T15:01:23.969670Z",
     "shell.execute_reply": "2024-10-19T15:01:23.968309Z"
    },
    "papermill": {
     "duration": 0.047398,
     "end_time": "2024-10-19T15:01:23.972264",
     "exception": false,
     "start_time": "2024-10-19T15:01:23.924866",
     "status": "completed"
    },
    "tags": []
   },
   "outputs": [
    {
     "name": "stdout",
     "output_type": "stream",
     "text": [
      "              precision    recall  f1-score   support\n",
      "\n",
      "         0.0       0.96      0.99      0.97     10087\n",
      "         1.0       0.89      0.75      0.81      1642\n",
      "\n",
      "    accuracy                           0.95     11729\n",
      "   macro avg       0.93      0.87      0.89     11729\n",
      "weighted avg       0.95      0.95      0.95     11729\n",
      "\n"
     ]
    }
   ],
   "source": [
    "print(classification_report(y_test,y_pred))"
   ]
  },
  {
   "cell_type": "code",
   "execution_count": 21,
   "id": "7ab493b0",
   "metadata": {
    "execution": {
     "iopub.execute_input": "2024-10-19T15:01:23.987900Z",
     "iopub.status.busy": "2024-10-19T15:01:23.987504Z",
     "iopub.status.idle": "2024-10-19T15:01:24.080729Z",
     "shell.execute_reply": "2024-10-19T15:01:24.079334Z"
    },
    "papermill": {
     "duration": 0.10434,
     "end_time": "2024-10-19T15:01:24.083630",
     "exception": false,
     "start_time": "2024-10-19T15:01:23.979290",
     "status": "completed"
    },
    "tags": []
   },
   "outputs": [],
   "source": [
    "\n",
    "y_pred_xgb_test=xgb_classifier_model.predict(dataset_test_scaled)\n",
    "y_pred_xgb_test=['True' if x==1 else 'False' for x in y_pred_xgb_test]"
   ]
  },
  {
   "cell_type": "code",
   "execution_count": 22,
   "id": "d581c42e",
   "metadata": {
    "execution": {
     "iopub.execute_input": "2024-10-19T15:01:24.099885Z",
     "iopub.status.busy": "2024-10-19T15:01:24.099459Z",
     "iopub.status.idle": "2024-10-19T15:01:24.107051Z",
     "shell.execute_reply": "2024-10-19T15:01:24.106016Z"
    },
    "papermill": {
     "duration": 0.018593,
     "end_time": "2024-10-19T15:01:24.109439",
     "exception": false,
     "start_time": "2024-10-19T15:01:24.090846",
     "status": "completed"
    },
    "tags": []
   },
   "outputs": [],
   "source": [
    "result_df_xgb=pd.DataFrame({'id':dataset_test['id'],'loan_status':y_pred_xgb_test})"
   ]
  },
  {
   "cell_type": "code",
   "execution_count": 23,
   "id": "176bc200",
   "metadata": {
    "execution": {
     "iopub.execute_input": "2024-10-19T15:01:24.125176Z",
     "iopub.status.busy": "2024-10-19T15:01:24.124752Z",
     "iopub.status.idle": "2024-10-19T15:01:24.164210Z",
     "shell.execute_reply": "2024-10-19T15:01:24.162885Z"
    },
    "papermill": {
     "duration": 0.050392,
     "end_time": "2024-10-19T15:01:24.166984",
     "exception": false,
     "start_time": "2024-10-19T15:01:24.116592",
     "status": "completed"
    },
    "tags": []
   },
   "outputs": [],
   "source": [
    "result_df_xgb.to_csv('result_loan_pred_xgb.csv',index=False)"
   ]
  },
  {
   "cell_type": "code",
   "execution_count": 24,
   "id": "fa208446",
   "metadata": {
    "execution": {
     "iopub.execute_input": "2024-10-19T15:01:24.183360Z",
     "iopub.status.busy": "2024-10-19T15:01:24.182962Z",
     "iopub.status.idle": "2024-10-19T15:01:24.187979Z",
     "shell.execute_reply": "2024-10-19T15:01:24.186843Z"
    },
    "papermill": {
     "duration": 0.016106,
     "end_time": "2024-10-19T15:01:24.190355",
     "exception": false,
     "start_time": "2024-10-19T15:01:24.174249",
     "status": "completed"
    },
    "tags": []
   },
   "outputs": [],
   "source": [
    "## TO DO:\n",
    "# 1. Learn to perform EDA properly on all features of input data\n",
    "# 2. get probablity of predicted y instead of labels, use roc curve to get the best threshold\n",
    "# 3. perform hyperparameter tuning\n",
    "# 4. try out lgb and cat boost as well"
   ]
  }
 ],
 "metadata": {
  "kaggle": {
   "accelerator": "none",
   "dataSources": [
    {
     "databundleVersionId": 9709193,
     "sourceId": 84894,
     "sourceType": "competition"
    }
   ],
   "dockerImageVersionId": 30786,
   "isGpuEnabled": false,
   "isInternetEnabled": false,
   "language": "python",
   "sourceType": "notebook"
  },
  "kernelspec": {
   "display_name": "Python 3",
   "language": "python",
   "name": "python3"
  },
  "language_info": {
   "codemirror_mode": {
    "name": "ipython",
    "version": 3
   },
   "file_extension": ".py",
   "mimetype": "text/x-python",
   "name": "python",
   "nbconvert_exporter": "python",
   "pygments_lexer": "ipython3",
   "version": "3.10.14"
  },
  "papermill": {
   "default_parameters": {},
   "duration": 8.517499,
   "end_time": "2024-10-19T15:01:24.819260",
   "environment_variables": {},
   "exception": null,
   "input_path": "__notebook__.ipynb",
   "output_path": "__notebook__.ipynb",
   "parameters": {},
   "start_time": "2024-10-19T15:01:16.301761",
   "version": "2.6.0"
  }
 },
 "nbformat": 4,
 "nbformat_minor": 5
}
